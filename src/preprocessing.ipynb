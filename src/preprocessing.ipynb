{
 "cells": [
  {
   "cell_type": "markdown",
   "id": "a6213274-97c5-4416-ab86-ac3ad86f907d",
   "metadata": {},
   "source": [
    "# Split Data\n",
    "\n",
    "- Time series split, since the data is not iid and have time series structure\n",
    "- how to create autoregression features\n",
    "\n",
    "- Describe briefly how you split the data and why. What preprocessors did you use and why? How\n",
    "many features and data points do you have before and after preprocessing. If you have missing\n",
    "values, describe the basic properties of the missing values (e.g., what fraction of the points have\n",
    "missing values, which features, what fraction of the features are missing, etc).\n",
    "\n",
    "- What can we say about the provided dataset?"
   ]
  },
  {
   "cell_type": "markdown",
   "id": "9c959ef1-4618-469c-b3dd-ab71458c6f6e",
   "metadata": {
    "collapsed": false,
    "jupyter": {
     "outputs_hidden": false
    }
   },
   "source": [
    "# Preprocessing\n",
    "\n",
    "- We do not fill missing values at this stage\n",
    "- We do not include feature engineering at this state, but will include lagged time data.\n",
    "- Categorical: imbalanced flag (?), stock_id (this will largely increase feature dimension & introduce a lot of zeros to our model)\n",
    "- Check feature type of every feature\n",
    "\n",
    "- if you have missing values in continuous features, describe the basic properties of the missing values (e.g., what fraction of the points have missing values, which features, what fraction of the features are missing, etc). do not impute or drop features/rows! you will need to apply the advanced missing value techniques we will cover during the second half of the term"
   ]
  },
  {
   "cell_type": "code",
   "execution_count": null,
   "id": "9dcae35b-c6b3-493f-9948-df59c5968dac",
   "metadata": {},
   "outputs": [],
   "source": []
  }
 ],
 "metadata": {
  "kernelspec": {
   "display_name": "Python 3 (ipykernel)",
   "language": "python",
   "name": "python3"
  },
  "language_info": {
   "codemirror_mode": {
    "name": "ipython",
    "version": 3
   },
   "file_extension": ".py",
   "mimetype": "text/x-python",
   "name": "python",
   "nbconvert_exporter": "python",
   "pygments_lexer": "ipython3",
   "version": "3.11.4"
  }
 },
 "nbformat": 4,
 "nbformat_minor": 5
}
