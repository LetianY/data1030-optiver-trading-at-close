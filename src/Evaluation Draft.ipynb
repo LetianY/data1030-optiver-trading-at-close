{
 "cells": [
  {
   "cell_type": "markdown",
   "id": "4b08d8cc-d399-42d2-86a7-027164f7ba31",
   "metadata": {},
   "source": [
    "## Evaluation\n",
    "\n",
    "The result is evaluated on the Mean Absolute Error (MAE) between the predicted return and the observed target. The formula is given by:\n",
    "\n",
    "$$\n",
    "MAE = \\frac{1}{n}\\sum_{i=1}{n}|y_i - x_i|\n",
    "$$\n",
    "\n",
    "Where:\n",
    "- n is the total number of data points.\n",
    "- y_i is the predicted value for data point i.\n",
    "- x_i is the observed value for data point i."
   ]
  },
  {
   "cell_type": "code",
   "execution_count": null,
   "id": "1f8c4f57-e93a-4b14-ab2d-a7700988c240",
   "metadata": {},
   "outputs": [],
   "source": []
  }
 ],
 "metadata": {
  "kernelspec": {
   "display_name": "Python 3 (ipykernel)",
   "language": "python",
   "name": "python3"
  },
  "language_info": {
   "codemirror_mode": {
    "name": "ipython",
    "version": 3
   },
   "file_extension": ".py",
   "mimetype": "text/x-python",
   "name": "python",
   "nbconvert_exporter": "python",
   "pygments_lexer": "ipython3",
   "version": "3.11.4"
  }
 },
 "nbformat": 4,
 "nbformat_minor": 5
}
